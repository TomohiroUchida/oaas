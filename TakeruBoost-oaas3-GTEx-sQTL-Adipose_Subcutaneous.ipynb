{
 "cells": [
  {
   "cell_type": "code",
   "execution_count": null,
   "metadata": {},
   "outputs": [],
   "source": [
    "import os\n",
    "\n",
    "os.environ['PYSPARK_SUBMIT_ARGS'] = ' \\\n",
    " --conf spark.jars.packages=\\\n",
    "io.projectglow:glow-spark3_2.12:1.1.2,\\\n",
    "io.delta:delta-core_2.12:1.0.1,\\\n",
    "org.apache.hadoop:hadoop-aws:3.2.0, \\\n",
    " --conf spark.hadoop.io.compression.codecs=io.projectglow.sql.util.BGZFCodec \\\n",
    " --conf spark.serializer=org.apache.spark.serializer.KryoSerializer \\\n",
    " pyspark-shell '\n",
    "\n",
    "from pyspark.sql import SparkSession\n",
    "spark = SparkSession.builder.getOrCreate()#\n",
    "\n",
    "spark\n",
    "sc = spark.sparkContext\n",
    "\n",
    "sc"
   ]
  },
  {
   "cell_type": "code",
   "execution_count": null,
   "metadata": {},
   "outputs": [],
   "source": [
    "spark"
   ]
  },
  {
   "cell_type": "markdown",
   "metadata": {},
   "source": [
    "## GTExのsQTLデータを扱う"
   ]
  },
  {
   "cell_type": "code",
   "execution_count": null,
   "metadata": {},
   "outputs": [],
   "source": [
    "sqtl_parquet=\"hdfs://[Path to Your sQTL data ]/GTEx_Analysis_v8_QTLs-GTEx_Analysis_v8_sQTL_all_associations-Adipose_Subcutaneous.v8.cis_sqtl.all_pairs.chr22.parquet\""
   ]
  },
  {
   "cell_type": "code",
   "execution_count": null,
   "metadata": {},
   "outputs": [],
   "source": [
    "gtex_sqtl_parquet = spark.read.parquet(sqtl_parquet)"
   ]
  },
  {
   "cell_type": "code",
   "execution_count": null,
   "metadata": {},
   "outputs": [],
   "source": [
    "gtex_sqtl_parquet.rdd.getNumPartitions()"
   ]
  },
  {
   "cell_type": "code",
   "execution_count": null,
   "metadata": {},
   "outputs": [],
   "source": [
    "gtex_sqtl_parquet.count()"
   ]
  },
  {
   "cell_type": "code",
   "execution_count": null,
   "metadata": {},
   "outputs": [],
   "source": [
    "gtex_sqtl_parquet.printSchema()"
   ]
  },
  {
   "cell_type": "code",
   "execution_count": null,
   "metadata": {},
   "outputs": [],
   "source": [
    "gtex_sqtl_parquet.show(truncate=False)"
   ]
  },
  {
   "cell_type": "code",
   "execution_count": null,
   "metadata": {},
   "outputs": [],
   "source": [
    "gtex_sqtl_parquet.select(\"phenotype_id\").distinct().show(truncate=False)"
   ]
  },
  {
   "cell_type": "code",
   "execution_count": null,
   "metadata": {},
   "outputs": [],
   "source": [
    "gtex_sqtl_parquet.select(\"phenotype_id\").distinct().count()"
   ]
  },
  {
   "cell_type": "code",
   "execution_count": null,
   "metadata": {},
   "outputs": [],
   "source": [
    "gtex_sqtl_parquet.select(\"phenotype_id\").count()"
   ]
  },
  {
   "cell_type": "code",
   "execution_count": null,
   "metadata": {},
   "outputs": [],
   "source": [
    "from pyspark.sql.functions import *\n",
    "\n",
    "gtex_sqtl_bronze = gtex_sqtl_parquet.\\\n",
    "    withColumn(\"contigName\",split(col(\"variant_id\"), \"_\").getItem(0)).\\\n",
    "    withColumn(\"start\",split(col(\"variant_id\"), \"_\").getItem(1)).\\\n",
    "    withColumn(\"referenceAllele\",split(col(\"variant_id\"), \"_\").getItem(2)).\\\n",
    "    withColumn(\"alternateAlleles\",split(col(\"variant_id\"), \"_\").getItem(3)).\\\n",
    "    select(regexp_replace(col(\"contigName\"),\"chr\",\"\").alias(\"contigName\"),\"start\",\"referenceAllele\",\"alternateAlleles\",\"phenotype_id\",\"variant_id\",\"tss_distance\",\\\n",
    "          \"af\",\"ma_samples\",\"ma_count\",\"pval_nominal\",\"slope\",\"slope_se\")\n",
    "\n",
    "gtex_sqtl_bronze.show(truncate=False)"
   ]
  },
  {
   "cell_type": "code",
   "execution_count": null,
   "metadata": {},
   "outputs": [],
   "source": [
    "gtex_sqtl_bronze.printSchema()"
   ]
  },
  {
   "cell_type": "markdown",
   "metadata": {},
   "source": [
    "```\n",
    "from Hail\n",
    "ht.show()\n",
    "\n",
    "\n",
    "+---------------+------------+---------------------------+\n",
    "| locus         | alleles    | phenotype_id.intron       |\n",
    "+---------------+------------+---------------------------+\n",
    "| locus<GRCh38> | array<str> | interval<locus<GRCh38>>   |\n",
    "+---------------+------------+---------------------------+\n",
    "| chr1:13550    | [\"G\",\"A\"]  | [chr1:14829-chr1:14970)   |\n",
    "| chr1:13550    | [\"G\",\"A\"]  | [chr1:15038-chr1:15796)   |\n",
    "| chr1:13550    | [\"G\",\"A\"]  | [chr1:15947-chr1:16607)   |\n",
    "| chr1:13550    | [\"G\",\"A\"]  | [chr1:17055-chr1:17233)   |\n",
    "| chr1:13550    | [\"G\",\"A\"]  | [chr1:17368-chr1:17606)   |\n",
    "| chr1:13550    | [\"G\",\"A\"]  | [chr1:17742-chr1:17915)   |\n",
    "| chr1:13550    | [\"G\",\"A\"]  | [chr1:18061-chr1:18268)   |\n",
    "| chr1:13550    | [\"G\",\"A\"]  | [chr1:18366-chr1:24738)   |\n",
    "| chr1:13550    | [\"G\",\"A\"]  | [chr1:188584-chr1:188791) |\n",
    "| chr1:13550    | [\"G\",\"A\"]  | [chr1:188266-chr1:188439) |\n",
    "+---------------+------------+---------------------------+\n",
    "\n",
    "+----------------------+----------------------+--------------+------------+\n",
    "| phenotype_id.cluster | phenotype_id.gene_id | tss_distance | ma_samples |\n",
    "+----------------------+----------------------+--------------+------------+\n",
    "| str                  | str                  |        int32 |      int32 |\n",
    "+----------------------+----------------------+--------------+------------+\n",
    "| \"clu_51865\"          | \"ENSG00000227232.5\"  |       -16003 |         18 |\n",
    "| \"clu_51865\"          | \"ENSG00000227232.5\"  |       -16003 |         18 |\n",
    "| \"clu_51868\"          | \"ENSG00000227232.5\"  |       -16003 |         18 |\n",
    "| \"clu_51870\"          | \"ENSG00000227232.5\"  |       -16003 |         18 |\n",
    "| \"clu_51870\"          | \"ENSG00000227232.5\"  |       -16003 |         18 |\n",
    "| \"clu_51870\"          | \"ENSG00000227232.5\"  |       -16003 |         18 |\n",
    "| \"clu_51871\"          | \"ENSG00000227232.5\"  |       -16003 |         18 |\n",
    "| \"clu_51871\"          | \"ENSG00000227232.5\"  |       -16003 |         18 |\n",
    "| \"clu_51874\"          | \"ENSG00000279457.4\"  |      -181861 |         18 |\n",
    "| \"clu_51873\"          | \"ENSG00000279457.4\"  |      -181861 |         18 |\n",
    "+----------------------+----------------------+--------------+------------+\n",
    "\n",
    "+----------+----------+--------------+-----------+----------+\n",
    "| ma_count |      maf | pval_nominal |     slope | slope_se |\n",
    "+----------+----------+--------------+-----------+----------+\n",
    "|    int32 |  float64 |      float64 |   float64 |  float64 |\n",
    "+----------+----------+--------------+-----------+----------+\n",
    "|       18 | 1.55e-02 |     6.97e-01 |  1.10e-01 | 2.81e-01 |\n",
    "|       18 | 1.55e-02 |     5.53e-01 | -1.61e-01 | 2.72e-01 |\n",
    "|       18 | 1.55e-02 |     3.88e-01 | -2.28e-01 | 2.64e-01 |\n",
    "|       18 | 1.55e-02 |     4.35e-01 |  1.87e-01 | 2.40e-01 |\n",
    "|       18 | 1.55e-02 |     4.81e-02 | -5.00e-01 | 2.53e-01 |\n",
    "|       18 | 1.55e-02 |     3.84e-01 |  2.21e-01 | 2.53e-01 |\n",
    "|       18 | 1.55e-02 |     6.91e-02 | -4.06e-01 | 2.23e-01 |\n",
    "|       18 | 1.55e-02 |     1.67e-01 |  3.41e-01 | 2.46e-01 |\n",
    "|       18 | 1.55e-02 |     4.66e-01 | -1.90e-01 | 2.61e-01 |\n",
    "|       18 | 1.55e-02 |     5.04e-01 |  1.71e-01 | 2.56e-01 |\n",
    "+----------+----------+--------------+-----------+----------+\n",
    "showing top 10 rows\n",
    "```"
   ]
  },
  {
   "cell_type": "markdown",
   "metadata": {},
   "source": [
    "```\n",
    "from hail\n",
    "\n",
    "gtexadrenal.describe()\n",
    "----------------------------------------\n",
    "Global fields:\n",
    "    'metadata': struct {\n",
    "        name: str, \n",
    "        version: str, \n",
    "        reference_genome: str, \n",
    "        n_rows: int32, \n",
    "        n_partitions: int32\n",
    "    } \n",
    "----------------------------------------\n",
    "Row fields:\n",
    "    'locus': locus<GRCh38> \n",
    "    'alleles': array<str> \n",
    "    'phenotype_id': struct {\n",
    "        intron: interval<locus<GRCh38>>, \n",
    "        cluster: str, \n",
    "        gene_id: str\n",
    "    } \n",
    "    'tss_distance': int32 \n",
    "    'ma_samples': int32 \n",
    "    'ma_count': int32 \n",
    "    'maf': float64 \n",
    "    'pval_nominal': float64 \n",
    "    'slope': float64 \n",
    "    'slope_se': float64 \n",
    "----------------------------------------\n",
    "Key: ['locus', 'alleles']\n",
    "----------------------------------------\n",
    "```"
   ]
  },
  {
   "cell_type": "markdown",
   "metadata": {},
   "source": [
    "```\n",
    "chr22:15785057:15787172:clu_28292:ENSG00000206195.10\n",
    "```\n",
    "```\n",
    "phenotype_id.intron   interval<locus<GRCh38>>\n",
    "[chr1:14829-chr1:14970) \n",
    "chr22:15785057:15787172\n",
    "\n",
    "phenotype_id.cluster  str\n",
    "clu_51870\n",
    "clu_28292\n",
    "\n",
    "phenotype_id.gene_id  str\n",
    "ENSG00000227232.5\n",
    "ENSG00000206195.10\n",
    "```"
   ]
  },
  {
   "cell_type": "code",
   "execution_count": null,
   "metadata": {},
   "outputs": [],
   "source": []
  }
 ],
 "metadata": {
  "kernelspec": {
   "display_name": "Python 3",
   "language": "python",
   "name": "python3"
  },
  "language_info": {
   "codemirror_mode": {
    "name": "ipython",
    "version": 3
   },
   "file_extension": ".py",
   "mimetype": "text/x-python",
   "name": "python",
   "nbconvert_exporter": "python",
   "pygments_lexer": "ipython3",
   "version": "3.8.8"
  }
 },
 "nbformat": 4,
 "nbformat_minor": 4
}
