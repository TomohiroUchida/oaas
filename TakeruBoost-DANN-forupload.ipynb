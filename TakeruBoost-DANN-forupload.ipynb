{
 "cells": [
  {
   "cell_type": "markdown",
   "id": "d61452cb-d147-4a1d-a025-0de7206a5443",
   "metadata": {
    "tags": []
   },
   "source": [
    "## Omics Analysis with Apache Spark\n",
    "### DANN編\n",
    "\n",
    "今回はDANNのデータをApache Sparkのデータフレームへ取り込んでいきます。   \n",
    "DANNは遺伝子変異の病原性をスコアリングしたもので、深層学習が使われています。\n"
   ]
  },
  {
   "cell_type": "markdown",
   "id": "7c88b3da-0c78-4f1b-b42d-5aeec7538b43",
   "metadata": {},
   "source": [
    "### データの下準備\n",
    "予め以下のデータをダウンロードしておいてあります。 \n",
    "103GBあります。\n",
    "```\n",
    "$ ls -sh DANN_whole_genome_SNVs.tsv.bgz \n",
    "103G DANN_whole_genome_SNVs.tsv.bgz\n",
    "```\n",
    "最初の10行を見てみます。\n",
    "```\n",
    "$ zcat DANN_whole_genome_SNVs.tsv.bgz|head\n",
    "1\t10001\tT\tA\t0.16461391399220135\n",
    "1\t10001\tT\tC\t0.4396994049749739\n",
    "1\t10001\tT\tG\t0.38108629377072734\n",
    "1\t10002\tA\tC\t0.36182020272810128\n",
    "1\t10002\tA\tG\t0.44413258111779291\n",
    "1\t10002\tA\tT\t0.16812846819989813\n",
    "1\t10003\tA\tC\t0.36516159615040267\n",
    "1\t10003\tA\tG\t0.4480978029675266\n",
    "1\t10003\tA\tT\t0.17573150952125288\n",
    "1\t10004\tC\tA\t0.16559066203780862\n",
    "```\n",
    "\n",
    "とてもシンプルなデータですね。そしてheaderはありません。  \n",
    "chromosome, position, ref, alt, DANN_score  \n",
    "という名前でheaderを作ることにします。\n",
    "\n",
    "データはhdfsに置きました。"
   ]
  },
  {
   "cell_type": "markdown",
   "id": "263b666d-904b-451e-b779-4ab57efe788e",
   "metadata": {},
   "source": [
    "### データの読み込み\n",
    "inferSchema=Falseで読み込みます。  \n",
    "headerもないので、header=Falseです。"
   ]
  },
  {
   "cell_type": "code",
   "execution_count": null,
   "id": "c836644b-fd5b-4e77-8958-70a7ecdb7f89",
   "metadata": {},
   "outputs": [],
   "source": [
    "delta_output_path = 'hdfs://hostname:port/path-to-data/DANN-delta'"
   ]
  },
  {
   "cell_type": "code",
   "execution_count": null,
   "id": "5b6df4a5-c8a3-47ca-82e0-9c3edee5cf9a",
   "metadata": {
    "tags": []
   },
   "outputs": [],
   "source": [
    "df = spark.read.option(\"delimiter\",\"\\t\")\\\n",
    "    .csv(\"hdfs://hostname:port/path-to-data/DANN/DANN_whole_genome_SNVs.tsv.bgz\",inferSchema=False,nullValue=\"NA\",header=False)"
   ]
  },
  {
   "cell_type": "markdown",
   "id": "88cc298f-1660-4124-84ec-9cb0b6954c26",
   "metadata": {},
   "source": [
    "表示させてみます"
   ]
  },
  {
   "cell_type": "code",
   "execution_count": null,
   "id": "8e3a37f9-c47e-4dfb-a733-ed9686004409",
   "metadata": {
    "tags": []
   },
   "outputs": [],
   "source": [
    "df.show()"
   ]
  },
  {
   "cell_type": "markdown",
   "id": "5b69532e-bf45-46c6-9739-0228042c83d7",
   "metadata": {},
   "source": [
    "schemaをつくり、適用させて読み込んでみます。"
   ]
  },
  {
   "cell_type": "code",
   "execution_count": null,
   "id": "dbdedf4a-7c86-44d5-b663-a9cf45aee96d",
   "metadata": {
    "tags": []
   },
   "outputs": [],
   "source": [
    "from pyspark.sql.types import *\n",
    "\n",
    "schema = StructType([\n",
    "  StructField(\"chromosome\", StringType(), False),\n",
    "  StructField(\"position\", IntegerType(), False),\n",
    "  StructField(\"ref\", StringType(), False),\n",
    "  StructField(\"alt\", StringType(), False),\n",
    "  StructField(\"DANN_score\", DoubleType(), False)\n",
    "])"
   ]
  },
  {
   "cell_type": "code",
   "execution_count": null,
   "id": "63ace531-2da3-4084-a869-603f86a738df",
   "metadata": {
    "tags": []
   },
   "outputs": [],
   "source": [
    "%%time\n",
    "df2 = spark.read.option(\"delimiter\",\"\\t\")\\\n",
    "    .csv(\"hdfs://hostname:port/path-to-data/DANN/DANN_whole_genome_SNVs.tsv.bgz\",inferSchema=False,nullValue=\"NA\",header=False,schema=schema).cache()\n",
    "df2.count()"
   ]
  },
  {
   "cell_type": "code",
   "execution_count": null,
   "id": "2e58048c-8a6f-4aa7-a9f8-2978403d7aee",
   "metadata": {
    "tags": []
   },
   "outputs": [],
   "source": [
    "df2.show()"
   ]
  },
  {
   "cell_type": "code",
   "execution_count": null,
   "id": "369e4b1c-ee0d-4589-8e10-bcf16afebd95",
   "metadata": {
    "tags": []
   },
   "outputs": [],
   "source": [
    "df2.printSchema()"
   ]
  },
  {
   "cell_type": "markdown",
   "id": "6009a129-1366-498f-b0fa-02f72c16dc76",
   "metadata": {},
   "source": [
    "良さそうです。  "
   ]
  },
  {
   "cell_type": "markdown",
   "id": "950ec313-8760-4ade-aeee-57a4bff53749",
   "metadata": {},
   "source": [
    "### DataFrame操作\n",
    "ここではRawScoreでsortしています。"
   ]
  },
  {
   "cell_type": "code",
   "execution_count": null,
   "id": "d6279133-5aff-45a3-bd79-8b0a7bd47e9e",
   "metadata": {
    "tags": []
   },
   "outputs": [],
   "source": [
    "%%time\n",
    "display(df2.sort(\"DANN_score\").select(\"chromosome\",\"position\",\"ref\",\"alt\",\"DANN_score\").limit(20).toPandas())"
   ]
  },
  {
   "cell_type": "markdown",
   "id": "319b5042-d345-4754-aa27-1ae9436aa1fa",
   "metadata": {},
   "source": [
    "スコアの高い順番にsortする場合は次のようにdesc()で項目名を囲みます。"
   ]
  },
  {
   "cell_type": "code",
   "execution_count": null,
   "id": "2ee8b471-51ad-4f60-914b-74c7fa2ac823",
   "metadata": {
    "tags": []
   },
   "outputs": [],
   "source": [
    "%%time\n",
    "from pyspark.sql.functions import desc\n",
    "display(df2.sort(desc(\"DANN_score\")).select(\"chromosome\",\"position\",\"ref\",\"alt\",\"DANN_score\").limit(20).toPandas())"
   ]
  },
  {
   "cell_type": "code",
   "execution_count": null,
   "id": "e283b1e2-1fce-434e-aeed-9845201a318e",
   "metadata": {},
   "outputs": [],
   "source": []
  }
 ],
 "metadata": {
  "kernelspec": {
   "display_name": "Python 3",
   "language": "python",
   "name": "python3"
  },
  "language_info": {
   "codemirror_mode": {
    "name": "ipython",
    "version": 3
   },
   "file_extension": ".py",
   "mimetype": "text/x-python",
   "name": "python",
   "nbconvert_exporter": "python",
   "pygments_lexer": "ipython3",
   "version": "3.8.8"
  }
 },
 "nbformat": 4,
 "nbformat_minor": 5
}
