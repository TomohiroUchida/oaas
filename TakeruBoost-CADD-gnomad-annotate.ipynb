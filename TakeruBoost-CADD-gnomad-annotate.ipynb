{
 "cells": [
  {
   "cell_type": "markdown",
   "id": "d61452cb-d147-4a1d-a025-0de7206a5443",
   "metadata": {
    "tags": []
   },
   "source": [
    "## Omics Analysis with Apache Spark\n",
    "### CADD編\n",
    "\n",
    "今回はCADDのデータをApache Sparkのデータフレームへ取り込んでいきます。  \n"
   ]
  },
  {
   "cell_type": "markdown",
   "id": "7c88b3da-0c78-4f1b-b42d-5aeec7538b43",
   "metadata": {},
   "source": [
    "### データの下準備\n",
    "予め以下のデータをダウンロードしておいてあります。 \n",
    "annotationがincludeされるかどうかでサイズにかなりの開きがあります。\n",
    "```\n",
    "~ # ls /zfs-archive/CADD/v1.6/GRCh38/ -sh\n",
    "合計 1010G\n",
    "8.5K GRCh38_v1.6                        7.2G gnomad.genomes.r3.0.indel_inclAnno.tsv.bgz   81G whole_genome_SNVs.tsv.gz\n",
    "206G annotationsGRCh38_v1.6.tar.gz      7.2G gnomad.genomes.r3.0.indel_inclAnno.tsv.gz   308G whole_genome_SNVs_inclAnno.tsv.bgz\n",
    "1.1G gnomad.genomes.r3.0.indel.tsv.bgz  6.0G gnomad.genomes.r3.0.snv.tsv.gz              314G whole_genome_SNVs_inclAnno.tsv.gz\n",
    "1.1G gnomad.genomes.r3.0.indel.tsv.gz    81G whole_genome_SNVs.tsv.bgz\n",
    "```\n",
    "bgzファイルはApache Sparkで高速に並列アクセスをするために事前につくっておきました。\n",
    "```\n",
    "~ # cat gnomad.genomes.r3.0.indel.tsv.gz |gzip -d |sed '1d' |bgzip -c > gnomad.genomes.r3.0.indel.tsv.bgz\n",
    "```\n",
    "\n",
    "sed '1d'はheaderを整えるために付与しています。\n",
    "- 変更前\n",
    "```\n",
    "# cat gnomad.genomes.r3.0.indel.tsv.gz |gunzip|head\n",
    "## CADD GRCh38-v1.6 (c) University of Washington, Hudson-Alpha Institute for Biotechnology and Berlin Institute of Health 2013-2020. All rights reserved.\n",
    "#Chrom\tPos\tRef\tAlt\tRawScore\tPHRED\n",
    "1\t10061\tT\tTAACCCTAACCCTAACCCTAACCCTAACCCTAACCCTAACCCTAACCC\t0.199964\t3.123\n",
    "1\t10067\tT\tTAACCCTAACCCTAACCCTAACCCTAACCCTAACCCTAACCC\t0.225348\t3.416\n",
    "1\t10108\tC\tCA\t0.390514\t5.321\n",
    "1\t10108\tC\tCAACCCTAACCCTAACCCTAACCCTAACCCTAACCCTAACCCT\t0.215572\t3.303\n",
    "1\t10108\tCAACCCT\tC\t0.317701\t4.494\n",
    "1\t10109\tAACCCT\tA\t0.321485\t4.538\n",
    "1\t10113\tCT\tC\t0.337989\t4.727\n",
    "1\t10114\tTA\tT\t0.338849\t4.737\n",
    "```\n",
    "\n",
    "- 変更後\n",
    "```\n",
    "/zfs-archive/CADD/v1.6/GRCh38 # cat gnomad.genomes.r3.0.indel.tsv.bgz |gunzip|head\n",
    "#Chrom\tPos\tRef\tAlt\tRawScore\tPHRED\n",
    "1\t10061\tT\tTAACCCTAACCCTAACCCTAACCCTAACCCTAACCCTAACCCTAACCC\t0.199964\t3.123\n",
    "1\t10067\tT\tTAACCCTAACCCTAACCCTAACCCTAACCCTAACCCTAACCC\t0.225348\t3.416\n",
    "1\t10108\tC\tCA\t0.390514\t5.321\n",
    "1\t10108\tC\tCAACCCTAACCCTAACCCTAACCCTAACCCTAACCCTAACCCT\t0.215572\t3.303\n",
    "1\t10108\tCAACCCT\tC\t0.317701\t4.494\n",
    "1\t10109\tAACCCT\tA\t0.321485\t4.538\n",
    "1\t10113\tCT\tC\t0.337989\t4.727\n",
    "1\t10114\tTA\tT\t0.338849\t4.737\n",
    "1\t10116\tAC\tA\t0.337997\t4.727\n",
    "```\n",
    "\n",
    "データはs3互換ストレージに置いておきます。  \n",
    "(今回はオンプレミスに構築してあるテストマシンにて実行。s3はminioで、sparkはyarnで動作させています。)\n",
    "\n",
    "### 起動\n",
    "あらかじめ設定しておいたAWSの\"Service Catalog\"からパラメータを入力し、欲しいサイズのSpark Clusterを起動していきます。  \n",
    "\n"
   ]
  },
  {
   "cell_type": "markdown",
   "id": "263b666d-904b-451e-b779-4ab57efe788e",
   "metadata": {},
   "source": [
    "### データの読み込み\n",
    "今回はgnomad.genomes.r3.0.indel_inclAnno.tsv.bgzを読み込んでみます。  \n",
    "初めて読み込むデータでもあるため、まずはinferSchema=Trueで読み込んでみます。  \n"
   ]
  },
  {
   "cell_type": "code",
   "execution_count": null,
   "id": "c836644b-fd5b-4e77-8958-70a7ecdb7f89",
   "metadata": {},
   "outputs": [],
   "source": [
    "delta_output_path = 's3a://path-to-data/gnomad.genomes.r3.0.indel_inclAnno'"
   ]
  },
  {
   "cell_type": "code",
   "execution_count": null,
   "id": "5b6df4a5-c8a3-47ca-82e0-9c3edee5cf9a",
   "metadata": {
    "tags": []
   },
   "outputs": [],
   "source": [
    "df = spark.read.option(\"delimiter\",\"\\t\")\\\n",
    "    .csv(\"s3a://path-to-data/CADD/v1.6/GRCh38/gnomad.genomes.r3.0.indel_inclAnno.tsv.bgz\",inferSchema=True,nullValue=\"NA\",header=True)"
   ]
  },
  {
   "cell_type": "code",
   "execution_count": null,
   "id": "e4a974cf-78a9-4695-848a-cc7b56c32dee",
   "metadata": {
    "tags": []
   },
   "outputs": [],
   "source": [
    "import pandas as pd"
   ]
  },
  {
   "cell_type": "markdown",
   "id": "88cc298f-1660-4124-84ec-9cb0b6954c26",
   "metadata": {},
   "source": [
    "いくつかの項目を選択し表示させてみます"
   ]
  },
  {
   "cell_type": "code",
   "execution_count": null,
   "id": "ba89e933-3de8-4874-b881-01c6d13eab10",
   "metadata": {
    "tags": []
   },
   "outputs": [],
   "source": [
    "display(df.select(\"#Chrom\",\"Pos\",\"Ref\",\"Alt\",\"Type\").limit(10).toPandas())"
   ]
  },
  {
   "cell_type": "markdown",
   "id": "8efb2a0a-da26-4f50-8e23-daf6406d45c7",
   "metadata": {},
   "source": [
    "データの中身を確認してみます。  \n",
    "df.na.drop()はデータに欠損値があるものをdropするものですが、このデータにおいては何かしらの列でNAがあるようで、何も残りませんでした。  \n",
    "以下いくつかのセルを実行することでどのように欠損値を含んだデータであるかが確認できますが、表示の都合で出力を削除してあります。"
   ]
  },
  {
   "cell_type": "code",
   "execution_count": null,
   "id": "5364d474-a5f7-4a6b-b410-c3b624e9a71f",
   "metadata": {
    "tags": []
   },
   "outputs": [],
   "source": [
    "display(df.na.drop().limit(50).toPandas())"
   ]
  },
  {
   "cell_type": "markdown",
   "id": "cf36ec4d-50af-496a-861d-ffbd1d9fec96",
   "metadata": {},
   "source": [
    "SIFTcatはすべてNAのようです。"
   ]
  },
  {
   "cell_type": "code",
   "execution_count": null,
   "id": "86ef4f16-af4c-4354-b1f6-4d111b55de92",
   "metadata": {
    "tags": []
   },
   "outputs": [],
   "source": [
    "display(df.dropna(subset=\"SIFTcat\").limit(50).toPandas())"
   ]
  },
  {
   "cell_type": "markdown",
   "id": "96660abd-a16c-4184-91f8-57d5e01058d8",
   "metadata": {},
   "source": [
    "それぞれのカラムでNAであるデータがいくつあるかをカウントしてみます。"
   ]
  },
  {
   "cell_type": "code",
   "execution_count": null,
   "id": "8f926f85-cc3f-41c0-bceb-c152bafd1aae",
   "metadata": {},
   "outputs": [],
   "source": [
    "from pyspark.sql.functions import *\n",
    "col_null_cnt_df =  df.select([count(when(col(c).isNull(),c)).alias(c) for c in df.columns])"
   ]
  },
  {
   "cell_type": "code",
   "execution_count": null,
   "id": "2aa6eaa9-5395-4170-b340-b0b349b3285d",
   "metadata": {
    "tags": []
   },
   "outputs": [],
   "source": [
    "display(col_null_cnt_df.toPandas())"
   ]
  },
  {
   "cell_type": "markdown",
   "id": "45f13465-c71f-455b-a964-a676afd4165e",
   "metadata": {},
   "source": [
    "反対に、NullやNaではなく値が入っている数を数えてみます。  \n",
    "SIFTcat以外にもいくつかのカラムはそもそもデータが入っていないことがわかりました。"
   ]
  },
  {
   "cell_type": "code",
   "execution_count": null,
   "id": "91bf836a-2dd4-4a43-88af-0f2dbe3de306",
   "metadata": {
    "tags": []
   },
   "outputs": [],
   "source": [
    "col_not_null_cnt_df =  df.select([count(when(col(c).isNotNull(),c)).alias(c) for c in df.columns])\n",
    "display(col_not_null_cnt_df.toPandas())"
   ]
  },
  {
   "cell_type": "markdown",
   "id": "e49ba649-fa34-4fec-ac1a-67883cf4521d",
   "metadata": {},
   "source": [
    "inferSchemaで取得されたSchemaを見てみます  \n",
    "  \n",
    "正確なところはやはり↓のような公式ドキュメントを見て決定していく必要がありそうです。  \n",
    "https://cadd.gs.washington.edu/static/ReleaseNotes_CADD_v1.4.pdf"
   ]
  },
  {
   "cell_type": "code",
   "execution_count": null,
   "id": "d97a8e3a-93e7-43c5-9060-4c686f37c712",
   "metadata": {},
   "outputs": [],
   "source": [
    "df.printSchema()"
   ]
  },
  {
   "cell_type": "markdown",
   "id": "1e8c1aca-9a00-4b42-aa92-cdc909a716ef",
   "metadata": {
    "tags": []
   },
   "source": [
    "### ディスクへの書き込み、読み込み\n",
    "##### S3\n",
    "データをdelta形式でs3へ保存します"
   ]
  },
  {
   "cell_type": "code",
   "execution_count": null,
   "id": "c50d93ef-5058-4210-a166-4cefbe79a70a",
   "metadata": {
    "tags": []
   },
   "outputs": [],
   "source": [
    "%%time\n",
    "df.write.format(\"delta\").mode(\"overwrite\").save(delta_output_path)"
   ]
  },
  {
   "cell_type": "markdown",
   "id": "e3b082c1-f2bc-459e-8413-948746c799b8",
   "metadata": {},
   "source": [
    "s3から読み込む場合は、このようにします。"
   ]
  },
  {
   "cell_type": "code",
   "execution_count": null,
   "id": "eb60c290-bbbc-497a-b603-fe0ae2583de6",
   "metadata": {
    "tags": []
   },
   "outputs": [],
   "source": [
    "df_s3 = spark.read.format(\"delta\").load(delta_output_path)"
   ]
  },
  {
   "cell_type": "markdown",
   "id": "950ec313-8760-4ade-aeee-57a4bff53749",
   "metadata": {},
   "source": [
    "### DataFrame操作\n",
    "ここではRawScoreでsortしています。"
   ]
  },
  {
   "cell_type": "code",
   "execution_count": null,
   "id": "d6279133-5aff-45a3-bd79-8b0a7bd47e9e",
   "metadata": {
    "tags": []
   },
   "outputs": [],
   "source": [
    "%%time\n",
    "display(df_s3.sort(\"RawScore\").select(\"#Chrom\",\"Pos\",\"Ref\",\"Alt\",\"Type\",\"RawScore\").limit(20).toPandas())"
   ]
  },
  {
   "cell_type": "markdown",
   "id": "319b5042-d345-4754-aa27-1ae9436aa1fa",
   "metadata": {},
   "source": [
    "スコアの高い順番にsortする場合は次のようにdesc()で項目名を囲みます。"
   ]
  },
  {
   "cell_type": "code",
   "execution_count": null,
   "id": "2ee8b471-51ad-4f60-914b-74c7fa2ac823",
   "metadata": {
    "tags": []
   },
   "outputs": [],
   "source": [
    "%%time\n",
    "display(df_s3.sort(desc(\"RawScore\")).select(\"#Chrom\",\"Pos\",\"Ref\",\"Alt\",\"Type\",\"RawScore\").limit(20).toPandas())"
   ]
  }
 ],
 "metadata": {
  "kernelspec": {
   "display_name": "Python 3",
   "language": "python",
   "name": "python3"
  },
  "language_info": {
   "codemirror_mode": {
    "name": "ipython",
    "version": 3
   },
   "file_extension": ".py",
   "mimetype": "text/x-python",
   "name": "python",
   "nbconvert_exporter": "python",
   "pygments_lexer": "ipython3",
   "version": "3.8.8"
  }
 },
 "nbformat": 4,
 "nbformat_minor": 5
}
